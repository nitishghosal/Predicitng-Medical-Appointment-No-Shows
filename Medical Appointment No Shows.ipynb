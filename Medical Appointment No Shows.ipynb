{
 "cells": [
  {
   "cell_type": "code",
   "execution_count": 1,
   "metadata": {},
   "outputs": [],
   "source": [
    "import numpy as np\n",
    "import matplotlib.pyplot as plt\n",
    "import pandas as pd\n",
    "import mglearn\n",
    "from sklearn.model_selection import train_test_split\n",
    "from sklearn.model_selection import cross_val_score\n",
    "from sklearn.model_selection import GridSearchCV\n",
    "from sklearn.preprocessing import MinMaxScaler\n",
    "from sklearn.pipeline import Pipeline\n",
    "from sklearn.tree import DecisionTreeClassifier\n",
    "from sklearn.ensemble import RandomForestClassifier\n",
    "from sklearn.ensemble import GradientBoostingClassifier\n",
    "from sklearn.neural_network import MLPClassifier"
   ]
  },
  {
   "cell_type": "code",
   "execution_count": 2,
   "metadata": {},
   "outputs": [
    {
     "name": "stdout",
     "output_type": "stream",
     "text": [
      "(300000, 15)\n"
     ]
    }
   ],
   "source": [
    "mydata = pd.read_csv(\"patients.csv\")\n",
    "#Preview voice dataset\n",
    "mydata.head()\n",
    "print(mydata.shape)"
   ]
  },
  {
   "cell_type": "code",
   "execution_count": 3,
   "metadata": {},
   "outputs": [],
   "source": [
    "\n",
    "#Create dummy variables\n",
    "gender_dummies = pd.get_dummies(mydata['Gender'])\n",
    "day_dummies = pd.get_dummies(mydata['DayOfTheWeek'])\n",
    "status_dummies = pd.get_dummies(mydata['Status'])\n",
    "df = pd.concat([mydata,gender_dummies,day_dummies,status_dummies],axis=1)\n",
    "\n",
    "dataframe = df.drop(['Gender','Status','AppointmentRegistration','ApointmentData','DayOfTheWeek','Show-Up'], 1)\n",
    "dataframe = dataframe[dataframe.Sms_Reminder != 2]\n"
   ]
  },
  {
   "cell_type": "code",
   "execution_count": 4,
   "metadata": {},
   "outputs": [],
   "source": [
    "\n",
    "#Create train, validate, and test datasets\n",
    "train, validate, test = np.split(dataframe.sample(frac=1), [int(.6*len(dataframe)), int(.8*len(dataframe))])\n",
    "\n",
    "X_train = train.iloc[:,0:18]\n",
    "X_validate = validate.iloc[:,0:18]\n",
    "X_test = test.iloc[:,0:18]\n",
    "y_train = list(train['No-Show'].values)\n",
    "y_validate = list(validate['No-Show'].values)\n",
    "y_test = list(test['No-Show'].values)\n"
   ]
  },
  {
   "cell_type": "code",
   "execution_count": null,
   "metadata": {},
   "outputs": [
    {
     "name": "stdout",
     "output_type": "stream",
     "text": [
      "Best cross-validation accuracy: 0.6969\n",
      "Validate set score: 0.6999\n",
      "Best parameters: {'tree__max_depth': 1, 'tree__min_samples_split': 2}\n"
     ]
    },
    {
     "name": "stderr",
     "output_type": "stream",
     "text": [
      "C:\\Users\\nitis\\Anaconda3\\lib\\site-packages\\sklearn\\utils\\deprecation.py:122: FutureWarning: You are accessing a training score ('mean_train_score'), which will not be available by default any more in 0.21. If you need training scores, please set return_train_score=True\n",
      "  warnings.warn(*warn_args, **warn_kwargs)\n",
      "C:\\Users\\nitis\\Anaconda3\\lib\\site-packages\\sklearn\\utils\\deprecation.py:122: FutureWarning: You are accessing a training score ('split0_train_score'), which will not be available by default any more in 0.21. If you need training scores, please set return_train_score=True\n",
      "  warnings.warn(*warn_args, **warn_kwargs)\n",
      "C:\\Users\\nitis\\Anaconda3\\lib\\site-packages\\sklearn\\utils\\deprecation.py:122: FutureWarning: You are accessing a training score ('split1_train_score'), which will not be available by default any more in 0.21. If you need training scores, please set return_train_score=True\n",
      "  warnings.warn(*warn_args, **warn_kwargs)\n",
      "C:\\Users\\nitis\\Anaconda3\\lib\\site-packages\\sklearn\\utils\\deprecation.py:122: FutureWarning: You are accessing a training score ('split2_train_score'), which will not be available by default any more in 0.21. If you need training scores, please set return_train_score=True\n",
      "  warnings.warn(*warn_args, **warn_kwargs)\n",
      "C:\\Users\\nitis\\Anaconda3\\lib\\site-packages\\sklearn\\utils\\deprecation.py:122: FutureWarning: You are accessing a training score ('split3_train_score'), which will not be available by default any more in 0.21. If you need training scores, please set return_train_score=True\n",
      "  warnings.warn(*warn_args, **warn_kwargs)\n",
      "C:\\Users\\nitis\\Anaconda3\\lib\\site-packages\\sklearn\\utils\\deprecation.py:122: FutureWarning: You are accessing a training score ('split4_train_score'), which will not be available by default any more in 0.21. If you need training scores, please set return_train_score=True\n",
      "  warnings.warn(*warn_args, **warn_kwargs)\n",
      "C:\\Users\\nitis\\Anaconda3\\lib\\site-packages\\sklearn\\utils\\deprecation.py:122: FutureWarning: You are accessing a training score ('std_train_score'), which will not be available by default any more in 0.21. If you need training scores, please set return_train_score=True\n",
      "  warnings.warn(*warn_args, **warn_kwargs)\n"
     ]
    },
    {
     "data": {
      "image/png": "[encoded data removed]",
      "text/plain": [
       "<matplotlib.figure.Figure at 0x2605616d668>"
      ]
     },
     "metadata": {},
     "output_type": "display_data"
    }
   ],
   "source": [
    "\n",
    "#Fit decision tree model\n",
    "pipe = Pipeline([(\"scaler\", MinMaxScaler()), (\"tree\", DecisionTreeClassifier())])\n",
    "\n",
    "param_grid = {'tree__max_depth': [1, 2, 3, 4, 5, 10],\n",
    "              'tree__min_samples_split': [2, 3, 4, 5, 10, 15]}\n",
    "\n",
    "grid = GridSearchCV(pipe, param_grid=param_grid, cv=5).fit(X_train, y_train)\n",
    "\n",
    "print(\"Best cross-validation accuracy: {:.4f}\".format(grid.best_score_))\n",
    "print(\"Validate set score: {:.4f}\".format(grid.score(X_validate, y_validate)))\n",
    "print(\"Best parameters: {}\".format(grid.best_params_))\n",
    "\n",
    "results = pd.DataFrame(grid.cv_results_)\n",
    "scores = np.array(results.mean_test_score).reshape(6, 6)\n",
    "mglearn.tools.heatmap(scores, xlabel='min_samples_split', xticklabels=param_grid['tree__min_samples_split'],\n",
    "                      ylabel='max_depth', yticklabels=param_grid['tree__max_depth'], cmap=\"viridis\")\n",
    "\n",
    "plt.show()\n"
   ]
  },
  {
   "cell_type": "code",
   "execution_count": 5,
   "metadata": {},
   "outputs": [
    {
     "name": "stdout",
     "output_type": "stream",
     "text": [
      "Best cross-validation accuracy: 0.6983\n",
      "Validate set score: 0.6966\n",
      "Best parameters: {'rf__max_depth': 10, 'rf__n_estimators': 50}\n"
     ]
    },
    {
     "name": "stderr",
     "output_type": "stream",
     "text": [
      "C:\\Users\\nitis\\Anaconda3\\lib\\site-packages\\sklearn\\utils\\deprecation.py:122: FutureWarning: You are accessing a training score ('mean_train_score'), which will not be available by default any more in 0.21. If you need training scores, please set return_train_score=True\n",
      "  warnings.warn(*warn_args, **warn_kwargs)\n",
      "C:\\Users\\nitis\\Anaconda3\\lib\\site-packages\\sklearn\\utils\\deprecation.py:122: FutureWarning: You are accessing a training score ('split0_train_score'), which will not be available by default any more in 0.21. If you need training scores, please set return_train_score=True\n",
      "  warnings.warn(*warn_args, **warn_kwargs)\n",
      "C:\\Users\\nitis\\Anaconda3\\lib\\site-packages\\sklearn\\utils\\deprecation.py:122: FutureWarning: You are accessing a training score ('split1_train_score'), which will not be available by default any more in 0.21. If you need training scores, please set return_train_score=True\n",
      "  warnings.warn(*warn_args, **warn_kwargs)\n",
      "C:\\Users\\nitis\\Anaconda3\\lib\\site-packages\\sklearn\\utils\\deprecation.py:122: FutureWarning: You are accessing a training score ('split2_train_score'), which will not be available by default any more in 0.21. If you need training scores, please set return_train_score=True\n",
      "  warnings.warn(*warn_args, **warn_kwargs)\n",
      "C:\\Users\\nitis\\Anaconda3\\lib\\site-packages\\sklearn\\utils\\deprecation.py:122: FutureWarning: You are accessing a training score ('split3_train_score'), which will not be available by default any more in 0.21. If you need training scores, please set return_train_score=True\n",
      "  warnings.warn(*warn_args, **warn_kwargs)\n",
      "C:\\Users\\nitis\\Anaconda3\\lib\\site-packages\\sklearn\\utils\\deprecation.py:122: FutureWarning: You are accessing a training score ('split4_train_score'), which will not be available by default any more in 0.21. If you need training scores, please set return_train_score=True\n",
      "  warnings.warn(*warn_args, **warn_kwargs)\n",
      "C:\\Users\\nitis\\Anaconda3\\lib\\site-packages\\sklearn\\utils\\deprecation.py:122: FutureWarning: You are accessing a training score ('std_train_score'), which will not be available by default any more in 0.21. If you need training scores, please set return_train_score=True\n",
      "  warnings.warn(*warn_args, **warn_kwargs)\n"
     ]
    },
    {
     "data": {
      "image/png": "[encoded data removed]",
      "text/plain": [
       "<matplotlib.figure.Figure at 0x283608826d8>"
      ]
     },
     "metadata": {},
     "output_type": "display_data"
    }
   ],
   "source": [
    "\n",
    "#Fit random forests model\n",
    "pipe = Pipeline([(\"scaler\", MinMaxScaler()), (\"rf\", RandomForestClassifier())])\n",
    "\n",
    "param_grid = {'rf__n_estimators': [10, 20, 30, 40, 50, 100],\n",
    "              'rf__max_depth': [1, 2, 3, 4, 5, 10]}\n",
    "\n",
    "grid = GridSearchCV(pipe, param_grid=param_grid, cv=5).fit(X_train, y_train)\n",
    "\n",
    "print(\"Best cross-validation accuracy: {:.4f}\".format(grid.best_score_))\n",
    "print(\"Validate set score: {:.4f}\".format(grid.score(X_validate, y_validate)))\n",
    "print(\"Best parameters: {}\".format(grid.best_params_))\n",
    "\n",
    "results = pd.DataFrame(grid.cv_results_)\n",
    "scores = np.array(results.mean_test_score).reshape(6, 6)\n",
    "mglearn.tools.heatmap(scores, xlabel='max_depth', xticklabels=param_grid['rf__max_depth'],\n",
    "                      ylabel='n_estimators', yticklabels=param_grid['rf__n_estimators'], cmap=\"viridis\")\n",
    "\n",
    "plt.show()\n"
   ]
  },
  {
   "cell_type": "code",
   "execution_count": 6,
   "metadata": {},
   "outputs": [
    {
     "name": "stdout",
     "output_type": "stream",
     "text": [
      "Best cross-validation accuracy: 0.6985\n",
      "Validate set score: 0.6963\n",
      "Best parameters: {'mlp__alpha': 0.001, 'mlp__hidden_layer_sizes': 1000}\n"
     ]
    },
    {
     "name": "stderr",
     "output_type": "stream",
     "text": [
      "C:\\Users\\nitis\\Anaconda3\\lib\\site-packages\\sklearn\\utils\\deprecation.py:122: FutureWarning: You are accessing a training score ('mean_train_score'), which will not be available by default any more in 0.21. If you need training scores, please set return_train_score=True\n",
      "  warnings.warn(*warn_args, **warn_kwargs)\n",
      "C:\\Users\\nitis\\Anaconda3\\lib\\site-packages\\sklearn\\utils\\deprecation.py:122: FutureWarning: You are accessing a training score ('split0_train_score'), which will not be available by default any more in 0.21. If you need training scores, please set return_train_score=True\n",
      "  warnings.warn(*warn_args, **warn_kwargs)\n",
      "C:\\Users\\nitis\\Anaconda3\\lib\\site-packages\\sklearn\\utils\\deprecation.py:122: FutureWarning: You are accessing a training score ('split1_train_score'), which will not be available by default any more in 0.21. If you need training scores, please set return_train_score=True\n",
      "  warnings.warn(*warn_args, **warn_kwargs)\n",
      "C:\\Users\\nitis\\Anaconda3\\lib\\site-packages\\sklearn\\utils\\deprecation.py:122: FutureWarning: You are accessing a training score ('split2_train_score'), which will not be available by default any more in 0.21. If you need training scores, please set return_train_score=True\n",
      "  warnings.warn(*warn_args, **warn_kwargs)\n",
      "C:\\Users\\nitis\\Anaconda3\\lib\\site-packages\\sklearn\\utils\\deprecation.py:122: FutureWarning: You are accessing a training score ('split3_train_score'), which will not be available by default any more in 0.21. If you need training scores, please set return_train_score=True\n",
      "  warnings.warn(*warn_args, **warn_kwargs)\n",
      "C:\\Users\\nitis\\Anaconda3\\lib\\site-packages\\sklearn\\utils\\deprecation.py:122: FutureWarning: You are accessing a training score ('split4_train_score'), which will not be available by default any more in 0.21. If you need training scores, please set return_train_score=True\n",
      "  warnings.warn(*warn_args, **warn_kwargs)\n",
      "C:\\Users\\nitis\\Anaconda3\\lib\\site-packages\\sklearn\\utils\\deprecation.py:122: FutureWarning: You are accessing a training score ('std_train_score'), which will not be available by default any more in 0.21. If you need training scores, please set return_train_score=True\n",
      "  warnings.warn(*warn_args, **warn_kwargs)\n"
     ]
    },
    {
     "data": {
      "image/png": "[encoded data removed]",
      "text/plain": [
       "<matplotlib.figure.Figure at 0x28367cd44a8>"
      ]
     },
     "metadata": {},
     "output_type": "display_data"
    }
   ],
   "source": [
    "\n",
    "#Fit multilayer perceptron model\n",
    "pipe = Pipeline([(\"scaler\", MinMaxScaler()), (\"mlp\", MLPClassifier(max_iter=1000000))])\n",
    "\n",
    "param_grid = {'mlp__alpha': [0.001, 0.01, 0.1, 1, 10, 100],\n",
    "              'mlp__hidden_layer_sizes': [10, 50, 100, 250, 500, 1000]}\n",
    "\n",
    "grid = GridSearchCV(pipe, param_grid=param_grid, cv=5).fit(X_train, y_train)\n",
    "\n",
    "print(\"Best cross-validation accuracy: {:.4f}\".format(grid.best_score_))\n",
    "print(\"Validate set score: {:.4f}\".format(grid.score(X_validate, y_validate)))\n",
    "print(\"Best parameters: {}\".format(grid.best_params_))\n",
    "\n",
    "results = pd.DataFrame(grid.cv_results_)\n",
    "scores = np.array(results.mean_test_score).reshape(6, 6)\n",
    "mglearn.tools.heatmap(scores, xlabel='hidden_layer_sizes', xticklabels=param_grid['mlp__hidden_layer_sizes'],\n",
    "                      ylabel='alpha', yticklabels=param_grid['mlp__alpha'], cmap=\"viridis\")\n",
    "\n",
    "plt.show()\n"
   ]
  },
  {
   "cell_type": "code",
   "execution_count": 7,
   "metadata": {},
   "outputs": [
    {
     "name": "stdout",
     "output_type": "stream",
     "text": [
      "Accuracy on test set: 0.6973\n"
     ]
    }
   ],
   "source": [
    "\n",
    "#Fit top model with best parameters\n",
    "mlp = MLPClassifier(hidden_layer_sizes=[100], alpha=0.01).fit(X_train, y_train)\n",
    "print(\"Accuracy on test set: {:.4f}\".format(mlp.score(X_test, y_test)))"
   ]
  },
  {
   "cell_type": "code",
   "execution_count": null,
   "metadata": {},
   "outputs": [],
   "source": []
  }
 ],
 "metadata": {
  "kernelspec": {
   "display_name": "Python 3",
   "language": "python",
   "name": "python3"
  },
  "language_info": {
   "codemirror_mode": {
    "name": "ipython",
    "version": 3
   },
   "file_extension": ".py",
   "mimetype": "text/x-python",
   "name": "python",
   "nbconvert_exporter": "python",
   "pygments_lexer": "ipython3",
   "version": "3.6.4"
  }
 },
 "nbformat": 4,
 "nbformat_minor": 2
}
